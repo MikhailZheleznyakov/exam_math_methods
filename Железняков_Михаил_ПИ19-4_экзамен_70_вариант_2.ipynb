{
 "cells": [
  {
   "cell_type": "markdown",
   "source": [
    "## Задание 1"
   ],
   "metadata": {
    "collapsed": false,
    "pycharm": {
     "name": "#%% md\n"
    }
   }
  },
  {
   "cell_type": "code",
   "execution_count": 79,
   "metadata": {
    "collapsed": true
   },
   "outputs": [],
   "source": [
    "from pulp import *\n",
    "import numpy as np\n",
    "import pandas as pd\n",
    "np.set_printoptions(suppress=True)\n",
    "import matplotlib.pyplot as plt"
   ]
  },
  {
   "cell_type": "code",
   "execution_count": 139,
   "outputs": [
    {
     "name": "stdout",
     "output_type": "stream",
     "text": [
      "\n",
      "Матрица C:\n",
      "[[16 18  9  1]\n",
      " [13 16 18  9]\n",
      " [14 23 12  7]]\n"
     ]
    }
   ],
   "source": [
    "C = np.array([list(map(int, input(f'Введите {i+1} строку матрицы C (числа через пробел):\\n').split())) for i in range(3)])\n",
    "print('\\nМатрица C:')\n",
    "print(C)"
   ],
   "metadata": {
    "collapsed": false,
    "pycharm": {
     "name": "#%%\n"
    }
   }
  },
  {
   "cell_type": "code",
   "execution_count": 140,
   "outputs": [
    {
     "data": {
      "text/plain": "(70, 50, 240)"
     },
     "execution_count": 140,
     "metadata": {},
     "output_type": "execute_result"
    }
   ],
   "source": [
    "a1, a2, a3 = map(int, input('Введите через пробел числа a1, a2, a3:\\n').split())\n",
    "a1,a2,a3"
   ],
   "metadata": {
    "collapsed": false,
    "pycharm": {
     "name": "#%%\n"
    }
   }
  },
  {
   "cell_type": "code",
   "execution_count": 141,
   "outputs": [],
   "source": [
    "A = np.array([a1, a2, a3])"
   ],
   "metadata": {
    "collapsed": false,
    "pycharm": {
     "name": "#%%\n"
    }
   }
  },
  {
   "cell_type": "code",
   "execution_count": 138,
   "outputs": [],
   "source": [
    "b1, b2, b3, b4 = map(int, input('Введите через пробел числа b1, b2, b3, b4:\\n').split())"
   ],
   "metadata": {
    "collapsed": false,
    "pycharm": {
     "name": "#%%\n"
    }
   }
  },
  {
   "cell_type": "code",
   "execution_count": 142,
   "outputs": [
    {
     "data": {
      "text/plain": "array([100,  10,  70, 160])"
     },
     "execution_count": 142,
     "metadata": {},
     "output_type": "execute_result"
    }
   ],
   "source": [
    "B = np.array([b1, b2, b3, b4])\n",
    "B"
   ],
   "metadata": {
    "collapsed": false,
    "pycharm": {
     "name": "#%%\n"
    }
   }
  },
  {
   "cell_type": "code",
   "execution_count": 7,
   "outputs": [],
   "source": [
    "N = len(A)\n",
    "M = len(B)"
   ],
   "metadata": {
    "collapsed": false,
    "pycharm": {
     "name": "#%%\n"
    }
   }
  },
  {
   "cell_type": "code",
   "execution_count": 143,
   "outputs": [
    {
     "data": {
      "text/plain": "aᵢ \\ bⱼ  100  10   70   160\n70        16   18    9    1\n50        13   16   18    9\n240       14   23   12    7",
      "text/html": "<div>\n<style scoped>\n    .dataframe tbody tr th:only-of-type {\n        vertical-align: middle;\n    }\n\n    .dataframe tbody tr th {\n        vertical-align: top;\n    }\n\n    .dataframe thead th {\n        text-align: right;\n    }\n</style>\n<table border=\"1\" class=\"dataframe\">\n  <thead>\n    <tr style=\"text-align: right;\">\n      <th>aᵢ \\ bⱼ</th>\n      <th>100</th>\n      <th>10</th>\n      <th>70</th>\n      <th>160</th>\n    </tr>\n  </thead>\n  <tbody>\n    <tr>\n      <th>70</th>\n      <td>16</td>\n      <td>18</td>\n      <td>9</td>\n      <td>1</td>\n    </tr>\n    <tr>\n      <th>50</th>\n      <td>13</td>\n      <td>16</td>\n      <td>18</td>\n      <td>9</td>\n    </tr>\n    <tr>\n      <th>240</th>\n      <td>14</td>\n      <td>23</td>\n      <td>12</td>\n      <td>7</td>\n    </tr>\n  </tbody>\n</table>\n</div>"
     },
     "execution_count": 143,
     "metadata": {},
     "output_type": "execute_result"
    }
   ],
   "source": [
    "df = pd.DataFrame(C, columns=B, index=A)\n",
    "df.columns.name = 'aᵢ \\\\ bⱼ'\n",
    "df"
   ],
   "metadata": {
    "collapsed": false,
    "pycharm": {
     "name": "#%%\n"
    }
   }
  },
  {
   "cell_type": "code",
   "execution_count": 144,
   "outputs": [
    {
     "name": "stdout",
     "output_type": "stream",
     "text": [
      "Задача открытого типа\n",
      "sum A =  360\n",
      "sum B =  340\n"
     ]
    }
   ],
   "source": [
    "if sum(A) == sum(B):\n",
    "    print('Задача закрытого типа')\n",
    "else:\n",
    "    print('Задача открытого типа')\n",
    "    print('sum A = ',sum(A))\n",
    "    print('sum B = ', sum(B))"
   ],
   "metadata": {
    "collapsed": false,
    "pycharm": {
     "name": "#%%\n"
    }
   }
  },
  {
   "cell_type": "code",
   "execution_count": 146,
   "outputs": [],
   "source": [
    "df[20] = 0"
   ],
   "metadata": {
    "collapsed": false,
    "pycharm": {
     "name": "#%%\n"
    }
   }
  },
  {
   "cell_type": "code",
   "execution_count": 152,
   "outputs": [],
   "source": [
    "C = df.values\n",
    "B = df.columns.values"
   ],
   "metadata": {
    "collapsed": false,
    "pycharm": {
     "name": "#%%\n"
    }
   }
  },
  {
   "cell_type": "code",
   "execution_count": 153,
   "outputs": [
    {
     "name": "stdout",
     "output_type": "stream",
     "text": [
      "Задача закрытого типа\n"
     ]
    }
   ],
   "source": [
    "\n",
    "if sum(df.columns) == sum(df.index):\n",
    "    print('Задача закрытого типа')\n",
    "else:\n",
    "    print('Задача открытого типа')\n",
    "    print(sum(df.columns))\n",
    "    print(sum(df.index))"
   ],
   "metadata": {
    "collapsed": false,
    "pycharm": {
     "name": "#%%\n"
    }
   }
  },
  {
   "cell_type": "code",
   "execution_count": 155,
   "outputs": [
    {
     "name": "stdout",
     "output_type": "stream",
     "text": [
      "Опорный план является невырожденным\n",
      "Полученный план перевозки груза:\n",
      " [[  0   0   0  50  20]\n",
      " [ 50   0   0   0   0]\n",
      " [ 10   0  70 110   0]]\n",
      "Значение целевой функции для этого опорного плана F = 2450\n"
     ]
    }
   ],
   "source": [
    "P = np.zeros_like(C)\n",
    "INF = 1_000_000_000\n",
    "C_ = C.copy()\n",
    "A_ = A.copy()\n",
    "B_ = B.copy()\n",
    "\n",
    "i = 0\n",
    "j = 0\n",
    "while not np.all(C_ == INF):\n",
    "    i, j = np.unravel_index(C_.argmin(), C_.shape)\n",
    "    P[i][j] = min(A_[i], B_[j])\n",
    "    if A_[i] <= B_[j]:\n",
    "        C_[i].fill(INF)\n",
    "        B_[j] -= A_[i]\n",
    "        A_[i] = 0\n",
    "    else:\n",
    "        C_[:, j].fill(INF)\n",
    "        A_[i] -= B[j]\n",
    "        B_[j] = 0\n",
    "if np.count_nonzero(P) == N + M - 1:\n",
    "    print('Опорный план является невырожденным')\n",
    "else:\n",
    "    print('Опорный план является вырожденным')\n",
    "\n",
    "F = 0\n",
    "for i in range(N):\n",
    "    for j in range(M):\n",
    "        F += C[i][j] * P[i][j]\n",
    "print('Полученный план перевозки груза:\\n', P)\n",
    "print('Значение целевой функции для этого опорного плана F =', F)\n"
   ],
   "metadata": {
    "collapsed": false,
    "pycharm": {
     "name": "#%%\n"
    }
   }
  },
  {
   "cell_type": "markdown",
   "source": [
    "## Задание 2"
   ],
   "metadata": {
    "collapsed": false,
    "pycharm": {
     "name": "#%% md\n"
    }
   }
  },
  {
   "cell_type": "code",
   "execution_count": 13,
   "outputs": [
    {
     "data": {
      "text/plain": "    П1  П2  П3  П4\nА1   3   5   6   2\nА2   3  -1   8   4\nА3  -4   3   7  -2\nА4   9   5   6   5\nА5  -3   6   8   4",
      "text/html": "<div>\n<style scoped>\n    .dataframe tbody tr th:only-of-type {\n        vertical-align: middle;\n    }\n\n    .dataframe tbody tr th {\n        vertical-align: top;\n    }\n\n    .dataframe thead th {\n        text-align: right;\n    }\n</style>\n<table border=\"1\" class=\"dataframe\">\n  <thead>\n    <tr style=\"text-align: right;\">\n      <th></th>\n      <th>П1</th>\n      <th>П2</th>\n      <th>П3</th>\n      <th>П4</th>\n    </tr>\n  </thead>\n  <tbody>\n    <tr>\n      <th>А1</th>\n      <td>3</td>\n      <td>5</td>\n      <td>6</td>\n      <td>2</td>\n    </tr>\n    <tr>\n      <th>А2</th>\n      <td>3</td>\n      <td>-1</td>\n      <td>8</td>\n      <td>4</td>\n    </tr>\n    <tr>\n      <th>А3</th>\n      <td>-4</td>\n      <td>3</td>\n      <td>7</td>\n      <td>-2</td>\n    </tr>\n    <tr>\n      <th>А4</th>\n      <td>9</td>\n      <td>5</td>\n      <td>6</td>\n      <td>5</td>\n    </tr>\n    <tr>\n      <th>А5</th>\n      <td>-3</td>\n      <td>6</td>\n      <td>8</td>\n      <td>4</td>\n    </tr>\n  </tbody>\n</table>\n</div>"
     },
     "execution_count": 13,
     "metadata": {},
     "output_type": "execute_result"
    }
   ],
   "source": [
    "\n",
    "df_2 = pd.read_csv('exam_2.csv', delimiter=';', encoding='utf-8', index_col=0)\n",
    "\n",
    "np_data_2 = df_2.values\n",
    "\n",
    "df_2"
   ],
   "metadata": {
    "collapsed": false,
    "pycharm": {
     "name": "#%%\n"
    }
   }
  },
  {
   "cell_type": "code",
   "execution_count": 14,
   "outputs": [
    {
     "name": "stdout",
     "output_type": "stream",
     "text": [
      "Величина минимальной недополученной прибыли\n",
      "по критерию Сэвиджа:     2\n",
      "\n",
      "Оптимальная стратегия игрока А\n",
      "по критерию Сэвиджа:     А4\n"
     ]
    }
   ],
   "source": [
    "#Сэвидж\n",
    "\n",
    "savidge_critery = (np_data_2.max(axis=0) - np_data_2).max(axis=1)\n",
    "\n",
    "print('Величина минимальной недополученной прибыли\\nпо критерию Сэвиджа:    ', np.min(savidge_critery))\n",
    "\n",
    "opt_strategy_savidge = df_2.index[np.argwhere(savidge_critery == np.min(savidge_critery)).reshape(-1)]\n",
    "\n",
    "print('\\nОптимальная стратегия игрока А\\nпо критерию Сэвиджа:    ', ' и '.join(opt_strategy_savidge))"
   ],
   "metadata": {
    "collapsed": false,
    "pycharm": {
     "name": "#%%\n"
    }
   }
  },
  {
   "cell_type": "markdown",
   "source": [
    "## Задание 3"
   ],
   "metadata": {
    "collapsed": false,
    "pycharm": {
     "name": "#%% md\n"
    }
   }
  },
  {
   "cell_type": "code",
   "execution_count": 15,
   "outputs": [
    {
     "data": {
      "text/plain": "    B1  B2\nA1  14   5\nA2   6  10\nA3  15   2",
      "text/html": "<div>\n<style scoped>\n    .dataframe tbody tr th:only-of-type {\n        vertical-align: middle;\n    }\n\n    .dataframe tbody tr th {\n        vertical-align: top;\n    }\n\n    .dataframe thead th {\n        text-align: right;\n    }\n</style>\n<table border=\"1\" class=\"dataframe\">\n  <thead>\n    <tr style=\"text-align: right;\">\n      <th></th>\n      <th>B1</th>\n      <th>B2</th>\n    </tr>\n  </thead>\n  <tbody>\n    <tr>\n      <th>A1</th>\n      <td>14</td>\n      <td>5</td>\n    </tr>\n    <tr>\n      <th>A2</th>\n      <td>6</td>\n      <td>10</td>\n    </tr>\n    <tr>\n      <th>A3</th>\n      <td>15</td>\n      <td>2</td>\n    </tr>\n  </tbody>\n</table>\n</div>"
     },
     "execution_count": 15,
     "metadata": {},
     "output_type": "execute_result"
    }
   ],
   "source": [
    "df_3 = pd.read_csv('exam_3.csv', delimiter=';', encoding='utf-8', index_col=0)\n",
    "\n",
    "np_data_3 = df_3.values\n",
    "\n",
    "df_3"
   ],
   "metadata": {
    "collapsed": false,
    "pycharm": {
     "name": "#%%\n"
    }
   }
  },
  {
   "cell_type": "code",
   "execution_count": 16,
   "outputs": [
    {
     "name": "stdout",
     "output_type": "stream",
     "text": [
      "альфа =  6\n",
      "бета =  10\n"
     ]
    }
   ],
   "source": [
    "# Определение седловой точки\n",
    "\n",
    "critery_1 = np_data_3.min(axis=1)\n",
    "\n",
    "print('альфа = ', np.max(critery_1))\n",
    "\n",
    "critery_2 = np_data_3.max(axis=0)\n",
    "\n",
    "print('бета = ', np.min(critery_2))"
   ],
   "metadata": {
    "collapsed": false,
    "pycharm": {
     "name": "#%%\n"
    }
   }
  },
  {
   "cell_type": "markdown",
   "source": [
    "###  цена игры в пределах [6;10]\n",
    "Так как альфа < бета, то игра не имеет седловой точки, и поэтому имеет\n",
    "решение в смешанных стратегиях"
   ],
   "metadata": {
    "collapsed": false,
    "pycharm": {
     "name": "#%% md\n"
    }
   }
  },
  {
   "cell_type": "code",
   "execution_count": 105,
   "outputs": [
    {
     "data": {
      "text/plain": "<Figure size 432x288 with 1 Axes>",
      "image/png": "[encoded data removed]"
     },
     "metadata": {
      "needs_background": "light"
     },
     "output_type": "display_data"
    }
   ],
   "source": [
    "plt.plot([0,1],[14,5])\n",
    "plt.plot([0,1],[6,10])\n",
    "plt.plot([0,1],[15,2])\n",
    "plt.plot(0.53,8.12, 'ko')\n",
    "plt.xticks(np.arange(0,1,0.05))\n",
    "plt.tick_params(axis='x', which='major', labelsize=5)"
   ],
   "metadata": {
    "collapsed": false,
    "pycharm": {
     "name": "#%%\n"
    }
   }
  },
  {
   "cell_type": "markdown",
   "source": [
    "### значение = 8.12, стратегия = 47,53,0"
   ],
   "metadata": {
    "collapsed": false,
    "pycharm": {
     "name": "#%% md\n"
    }
   }
  },
  {
   "cell_type": "code",
   "execution_count": 101,
   "outputs": [
    {
     "name": "stderr",
     "output_type": "stream",
     "text": [
      "c:\\users\\irong\\desktop\\python\\lib\\site-packages\\pulp\\pulp.py:1352: UserWarning: Spaces are not permitted in the name. Converted to '_'\n",
      "  warnings.warn(\"Spaces are not permitted in the name. Converted to '_'\")\n"
     ]
    }
   ],
   "source": [
    "problem = LpProblem('Task 1', LpMinimize)\n",
    "\n",
    "x1 = LpVariable('x1', lowBound=0)\n",
    "x2 = LpVariable('x2', lowBound=0)\n",
    "x3 = LpVariable('x3', lowBound=0)\n",
    "\n",
    "\n",
    "\n",
    "problem += x1 + x2 + x3\n",
    "\n",
    "problem += np_data_3[0][0] * x1 + np_data_3[0][1] * x2 >= 1\n",
    "problem += np_data_3[1][0] * x1 + np_data_3[1][1] * x2 >= 1\n",
    "problem += np_data_3[2][0] * x1 + np_data_3[2][1] * x2 >= 1"
   ],
   "metadata": {
    "collapsed": false,
    "pycharm": {
     "name": "#%%\n"
    }
   }
  },
  {
   "cell_type": "code",
   "execution_count": 102,
   "outputs": [
    {
     "name": "stdout",
     "output_type": "stream",
     "text": [
      "x1:  0.057971014\n",
      "x2:  0.065217391\n",
      "x3:  0.0\n",
      "Целевая:  0.123188405\n"
     ]
    }
   ],
   "source": [
    "problem.solve()\n",
    "print(\"x1: \", x1.varValue)\n",
    "print(\"x2: \", x2.varValue)\n",
    "print(\"x3: \", x3.varValue)\n",
    "print(\"Целевая: \", value(problem.objective))"
   ],
   "metadata": {
    "collapsed": false,
    "pycharm": {
     "name": "#%%\n"
    }
   }
  },
  {
   "cell_type": "code",
   "execution_count": 103,
   "outputs": [
    {
     "name": "stdout",
     "output_type": "stream",
     "text": [
      "Цена игры:  8.12\n"
     ]
    }
   ],
   "source": [
    "print(\"Цена игры: \", round(1/value(problem.objective),2))"
   ],
   "metadata": {
    "collapsed": false,
    "pycharm": {
     "name": "#%%\n"
    }
   }
  },
  {
   "cell_type": "code",
   "execution_count": 104,
   "outputs": [
    {
     "name": "stdout",
     "output_type": "stream",
     "text": [
      "Стратегия 1:  47 %\n",
      "Стратегия 2:  53 %\n",
      "Стратегия 3:  0 %\n"
     ]
    }
   ],
   "source": [
    "print('Стратегия 1: ', round((1/value(problem.objective)) * x1.varValue *100), '%')\n",
    "print('Стратегия 2: ', round((1/value(problem.objective)) * x2.varValue *100), '%')\n",
    "print('Стратегия 3: ', round((1/value(problem.objective)) * x3.varValue *100), '%')"
   ],
   "metadata": {
    "collapsed": false,
    "pycharm": {
     "name": "#%%\n"
    }
   }
  }
 ],
 "metadata": {
  "kernelspec": {
   "display_name": "Python 3",
   "language": "python",
   "name": "python3"
  },
  "language_info": {
   "codemirror_mode": {
    "name": "ipython",
    "version": 2
   },
   "file_extension": ".py",
   "mimetype": "text/x-python",
   "name": "python",
   "nbconvert_exporter": "python",
   "pygments_lexer": "ipython2",
   "version": "2.7.6"
  }
 },
 "nbformat": 4,
 "nbformat_minor": 0
}