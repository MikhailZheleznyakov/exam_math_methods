{
 "cells": [
  {
   "cell_type": "markdown",
   "id": "2cc9865e",
   "metadata": {},
   "source": [
    "Задание 6. Задача об оптимальном использовании ресурсов\n",
    "\n",
    "Для производства трех видов изделий (A, B, C) используются ресурсы типа I и II,\n",
    "причем закупки ресурсов ограничены возможностями поставщиков. Нормы расхода ресурсов и их запасы приведены в таблице.\n",
    "\n",
    "1. Постройте математическую модель задачи.\n",
    "\n",
    "2. Определите такой план производства, при котором стоимость произведенного товара из имеющихся ресурсов является наибольшей.\n",
    "\n",
    "3. Постройте задачу, двойственную к данной.\n",
    "\n",
    "4. Найдите решение двойственной задачи. Поясните смысл двойственных переменных.\n",
    "\n",
    "5. Проверьте результаты вычислений на компьютере.\n",
    "\n",
    "Вариант 9"
   ]
  },
  {
   "cell_type": "markdown",
   "id": "f3cccb39",
   "metadata": {},
   "source": [
    "<b>Математическая модель задачи.</b><br>\n",
    "Необходимо максимизировать функцию<br>\n",
    "*F(x1,x2,x3) = (6b + 12)\\*x1 + (5b + 22)\\*x2 + c\\*x3* → max<br>\n",
    "при заданных ограничениях ресурсов:<br>\n",
    "*x1 + 3*\\*x2 + a*\\*x3 <= 3000*<br>\n",
    "6*\\*x1 + 5*\\*x2 + 2*\\*x3 <= 3320*<br>\n",
    "*x1, x2, x3 >= 0*"
   ]
  },
  {
   "cell_type": "code",
   "execution_count": 17,
   "id": "9331cd31",
   "metadata": {},
   "outputs": [],
   "source": [
    "import numpy as np\n",
    "from scipy.optimize import Bounds, linprog\n",
    "from gurobipy import *"
   ]
  },
  {
   "cell_type": "code",
   "execution_count": 18,
   "id": "7b3aef90",
   "metadata": {},
   "outputs": [],
   "source": [
    "a = int(input('a = '))\n",
    "b = int(input('b = '))\n",
    "c = int(input('c = '))"
   ]
  },
  {
   "cell_type": "markdown",
   "id": "83dc0dbd",
   "metadata": {},
   "source": [
    "#### Находим оптимальный план производства"
   ]
  },
  {
   "cell_type": "markdown",
   "id": "e4b5a060",
   "metadata": {},
   "source": [
    "1. используя linprog"
   ]
  },
  {
   "cell_type": "code",
   "execution_count": 19,
   "id": "605ad0e1",
   "metadata": {},
   "outputs": [
    {
     "name": "stdout",
     "output_type": "stream",
     "text": [
      "Optimization terminated successfully.\n",
      "         Current function value: -28877.500000\n",
      "         Iterations: 3\n",
      "[247.5   0.  917.5]\n"
     ]
    }
   ],
   "source": [
    "# границы и ограничения\n",
    "\n",
    "bounds = np.array([(0, np.inf), (0, np.inf), (0, np.inf)])\n",
    "\n",
    "A_ub = np.array([[1, 3, a], [6, 5, 2]])\n",
    "b_ub = np.array([3000, 3320])\n",
    "c0 = np.array([6*b + 12, 5*b + 22, c])\n",
    "\n",
    "res = linprog(-c0, A_ub, b_ub, bounds=bounds, method='simplex', options={'disp': True})\n",
    "\n",
    "x1 = res.x[0]\n",
    "x2 = res.x[1]\n",
    "x3 = res.x[2]\n",
    "F_max = -res.fun\n",
    "print(res.x)"
   ]
  },
  {
   "cell_type": "code",
   "execution_count": 20,
   "id": "6756b83c",
   "metadata": {},
   "outputs": [
    {
     "name": "stdout",
     "output_type": "stream",
     "text": [
      "Оптимальные значения: x1 = 247.5, x2 = 0.0, x3 = 917.5\n",
      "Max значение функции: 28877.5\n"
     ]
    }
   ],
   "source": [
    "print(f'Оптимальные значения: x1 = {x1.round(3)}, x2 = {x2.round(3)}, x3 = {x3.round(3)}')\n",
    "print('Max значение функции:',F_max.round(3))"
   ]
  },
  {
   "cell_type": "code",
   "execution_count": 21,
   "id": "71044cc9",
   "metadata": {},
   "outputs": [
    {
     "data": {
      "text/plain": "array([3000., 3320.])"
     },
     "execution_count": 21,
     "metadata": {},
     "output_type": "execute_result"
    }
   ],
   "source": [
    "b_opt = np.array([x1 + 3*x2 + a*x3, 6*x1 + 5*x2 + 2*x3]) # Реальный расход ресурсов\n",
    "b_opt"
   ]
  },
  {
   "cell_type": "code",
   "execution_count": 22,
   "id": "1b012a31",
   "metadata": {},
   "outputs": [
    {
     "data": {
      "text/plain": "array([0., 0.])"
     },
     "execution_count": 22,
     "metadata": {},
     "output_type": "execute_result"
    }
   ],
   "source": [
    "#Дефицит\n",
    "abs(b_ub-b_opt)"
   ]
  },
  {
   "cell_type": "markdown",
   "id": "c4ba28df",
   "metadata": {},
   "source": [
    "2. используя gurobi"
   ]
  },
  {
   "cell_type": "code",
   "execution_count": 23,
   "id": "ef06a556",
   "metadata": {},
   "outputs": [
    {
     "name": "stdout",
     "output_type": "stream",
     "text": [
      "Gurobi Optimizer version 9.5.1 build v9.5.1rc2 (win64)\n",
      "Thread count: 4 physical cores, 8 logical processors, using up to 8 threads\n",
      "Optimize a model with 2 rows, 3 columns and 6 nonzeros\n",
      "Model fingerprint: 0xb9347198\n",
      "Coefficient statistics:\n",
      "  Matrix range     [1e+00, 6e+00]\n",
      "  Objective range  [2e+01, 3e+01]\n",
      "  Bounds range     [0e+00, 0e+00]\n",
      "  RHS range        [3e+03, 3e+03]\n",
      "Presolve time: 0.01s\n",
      "Presolved: 2 rows, 3 columns, 6 nonzeros\n",
      "\n",
      "Iteration    Objective       Primal Inf.    Dual Inf.      Time\n",
      "       0    8.1000000e+31   3.375000e+30   8.100000e+01      0s\n",
      "       2    2.8877500e+04   0.000000e+00   0.000000e+00      0s\n",
      "\n",
      "Solved in 2 iterations and 0.02 seconds (0.00 work units)\n",
      "Optimal objective  2.887750000e+04\n"
     ]
    }
   ],
   "source": [
    "var_names = ['x1', 'x2', 'x3']                         \n",
    "profit = np.array([6*b + 12, 5*b + 22, c])\n",
    "res_used = np.array([[1, 3, a], [6, 5, 2]])\n",
    "res_avail = np.array([3000, 3320])\n",
    "\n",
    "n = len(profit)                                    \n",
    "m = len(res_avail)                                 \n",
    "model = Model()\n",
    "x = model.addVars(n, name=var_names)\n",
    "obj = model.setObjective(quicksum(profit[j] * x[j] for j in range(n)), GRB.MAXIMIZE)\n",
    "con = []\n",
    "for i in range(m):\n",
    "    con.append(model.addConstr(quicksum(res_used[i, j] * x[j] for j in range(n)) <= res_avail[i], name=var_names[i]))\n",
    "model.optimize()"
   ]
  },
  {
   "cell_type": "code",
   "execution_count": 24,
   "id": "d17b567f",
   "metadata": {},
   "outputs": [
    {
     "name": "stdout",
     "output_type": "stream",
     "text": [
      "X = [247.5, 0.0, 917.5] \n",
      "Fmax = 28877.5 \n",
      "Оптимальный план двойственной задачи Pi → (y1,y2) = [6.375000000000001, 2.9375]\n",
      "x1 = 247.5\n",
      "Pi1 = 6.375000000000001\n"
     ]
    }
   ],
   "source": [
    "# вывод параметров\n",
    "print(\"X =\", model.X, \"\\nFmax =\", model.ObjVal, \"\\nОптимальный план двойственной задачи Pi → (y1,y2) =\", model.Pi) \n",
    "print(\"x1 =\", x[0].X)\n",
    "print(\"Pi1 =\", con[0].Pi)"
   ]
  },
  {
   "cell_type": "code",
   "execution_count": 25,
   "id": "67b12bee",
   "metadata": {},
   "outputs": [
    {
     "name": "stdout",
     "output_type": "stream",
     "text": [
      "\n",
      "    Variable            X          Obj     SAObjLow      SAObjUp \n",
      "----------------------------------------------------------------\n",
      "          x1        247.5           24      20.7778           75 \n",
      "          x2            0           32         -inf      33.8125 \n",
      "          x3        917.5           25      22.7692           72 \n"
     ]
    }
   ],
   "source": [
    "model.printAttr(['X', 'Obj', 'SAObjLow', 'SAObjUp'])"
   ]
  },
  {
   "cell_type": "code",
   "execution_count": 26,
   "id": "5b4750b3",
   "metadata": {
    "pycharm": {
     "name": "#%%\n"
    }
   },
   "outputs": [
    {
     "name": "stdout",
     "output_type": "stream",
     "text": [
      "Анализ чувствительности\n",
      "Fmax = 28877.5\n",
      "\n",
      "    Variable            X           RC           LB      SALBLow       SALBUp           UB      SAUBLow       SAUBUp \n",
      "--------------------------------------------------------------------------------------------------------------------\n",
      "          x1        247.5            0            0         -inf        247.5          inf        247.5          inf \n",
      "          x2            0      -1.8125            0         -inf          440          inf            0          inf \n",
      "          x3        917.5            0            0         -inf        917.5          inf        917.5          inf \n",
      "\n",
      "  Constraint        Sense        Slack           Pi          RHS     SARHSLow      SARHSUp \n",
      "------------------------------------------------------------------------------------------\n",
      "          x1            <            0        6.375         3000      553.333         4980 \n",
      "          x2            <            0       2.9375         3320         2000        18000 \n"
     ]
    }
   ],
   "source": [
    "print('Анализ чувствительности\\nFmax =', model.ObjVal)\n",
    "model.printAttr(['X', 'RC', 'LB', 'SALBLow', 'SALBUp', 'UB', 'SAUBLow', 'SAUBUp'])\n",
    "model.printAttr(['Sense', 'Slack', 'Pi', 'RHS', 'SARHSLow', 'SARHSUp'])\n",
    "\n",
    "\n"
   ]
  }
 ],
 "metadata": {
  "kernelspec": {
   "display_name": "Python 3 (ipykernel)",
   "language": "python",
   "name": "python3"
  },
  "language_info": {
   "codemirror_mode": {
    "name": "ipython",
    "version": 3
   },
   "file_extension": ".py",
   "mimetype": "text/x-python",
   "name": "python",
   "nbconvert_exporter": "python",
   "pygments_lexer": "ipython3",
   "version": "3.9.7"
  }
 },
 "nbformat": 4,
 "nbformat_minor": 5
}