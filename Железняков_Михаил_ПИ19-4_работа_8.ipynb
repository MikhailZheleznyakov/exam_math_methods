{
 "cells": [
  {
   "cell_type": "code",
   "execution_count": 1,
   "outputs": [],
   "source": [
    "import nashpy as nash\n",
    "from pulp import *\n",
    "import numpy as np\n",
    "import pandas as pd\n",
    "import matplotlib.pyplot as plt"
   ],
   "metadata": {
    "collapsed": false,
    "pycharm": {
     "name": "#%%\n"
    }
   }
  },
  {
   "cell_type": "markdown",
   "source": [
    "## Задание 1"
   ],
   "metadata": {
    "collapsed": false
   }
  },
  {
   "cell_type": "code",
   "execution_count": 2,
   "outputs": [
    {
     "data": {
      "text/plain": "          Телефоны  Ноутбуки  Наушники\nТелефоны       300       280       230\nНоутбуки       200       180       130\nПК             240       380       400",
      "text/html": "<div>\n<style scoped>\n    .dataframe tbody tr th:only-of-type {\n        vertical-align: middle;\n    }\n\n    .dataframe tbody tr th {\n        vertical-align: top;\n    }\n\n    .dataframe thead th {\n        text-align: right;\n    }\n</style>\n<table border=\"1\" class=\"dataframe\">\n  <thead>\n    <tr style=\"text-align: right;\">\n      <th></th>\n      <th>Телефоны</th>\n      <th>Ноутбуки</th>\n      <th>Наушники</th>\n    </tr>\n  </thead>\n  <tbody>\n    <tr>\n      <th>Телефоны</th>\n      <td>300</td>\n      <td>280</td>\n      <td>230</td>\n    </tr>\n    <tr>\n      <th>Ноутбуки</th>\n      <td>200</td>\n      <td>180</td>\n      <td>130</td>\n    </tr>\n    <tr>\n      <th>ПК</th>\n      <td>240</td>\n      <td>380</td>\n      <td>400</td>\n    </tr>\n  </tbody>\n</table>\n</div>"
     },
     "execution_count": 2,
     "metadata": {},
     "output_type": "execute_result"
    }
   ],
   "source": [
    "df = pd.read_csv('task8.csv', delimiter=';', encoding='utf-8', index_col=0)\n",
    "df"
   ],
   "metadata": {
    "collapsed": false,
    "pycharm": {
     "name": "#%%\n"
    }
   }
  },
  {
   "cell_type": "code",
   "execution_count": 3,
   "outputs": [
    {
     "data": {
      "text/plain": "array([[300, 280, 230],\n       [200, 180, 130],\n       [240, 380, 400]], dtype=int64)"
     },
     "execution_count": 3,
     "metadata": {},
     "output_type": "execute_result"
    }
   ],
   "source": [
    "np_data = df.values\n",
    "np_data"
   ],
   "metadata": {
    "collapsed": false,
    "pycharm": {
     "name": "#%%\n"
    }
   }
  },
  {
   "cell_type": "code",
   "execution_count": 4,
   "outputs": [
    {
     "data": {
      "text/plain": "array([230, 130, 240], dtype=int64)"
     },
     "execution_count": 4,
     "metadata": {},
     "output_type": "execute_result"
    }
   ],
   "source": [
    "np.min(np_data, axis=1)"
   ],
   "metadata": {
    "collapsed": false,
    "pycharm": {
     "name": "#%%\n"
    }
   }
  },
  {
   "cell_type": "code",
   "execution_count": 5,
   "outputs": [
    {
     "name": "stdout",
     "output_type": "stream",
     "text": [
      "Цена игры для игрока А\n",
      "при выборе чистой оптимальной стратегии:  240\n"
     ]
    }
   ],
   "source": [
    "np.max(np.min(np_data, axis=1))\n",
    "print('Цена игры для игрока А\\nпри выборе чистой оптимальной стратегии: ', np.max(np.min(np_data, axis=1)))"
   ],
   "metadata": {
    "collapsed": false,
    "pycharm": {
     "name": "#%%\n"
    }
   }
  },
  {
   "cell_type": "code",
   "execution_count": 6,
   "outputs": [
    {
     "name": "stdout",
     "output_type": "stream",
     "text": [
      "Оптимальная чистая стратегия для игрока А:  ПК\n"
     ]
    }
   ],
   "source": [
    "df.index[np.argmax(np.min(np_data, axis=1))]\n",
    "print('Оптимальная чистая стратегия для игрока А: ', df.index[np.argmax(np.min(np_data, axis=1))])"
   ],
   "metadata": {
    "collapsed": false,
    "pycharm": {
     "name": "#%%\n"
    }
   }
  },
  {
   "cell_type": "code",
   "execution_count": 7,
   "outputs": [
    {
     "data": {
      "text/plain": "array([300, 380, 400], dtype=int64)"
     },
     "execution_count": 7,
     "metadata": {},
     "output_type": "execute_result"
    }
   ],
   "source": [
    "np.max(np_data, axis=0)"
   ],
   "metadata": {
    "collapsed": false,
    "pycharm": {
     "name": "#%%\n"
    }
   }
  },
  {
   "cell_type": "code",
   "execution_count": 8,
   "outputs": [
    {
     "name": "stdout",
     "output_type": "stream",
     "text": [
      "Цена игры для игрока Б\n",
      "при выборе чистой оптимальной стратегии:  300\n"
     ]
    }
   ],
   "source": [
    "np.min(np.max(np_data, axis=0))\n",
    "print('Цена игры для игрока Б\\nпри выборе чистой оптимальной стратегии: ', np.min(np.max(np_data, axis=0)))"
   ],
   "metadata": {
    "collapsed": false,
    "pycharm": {
     "name": "#%%\n"
    }
   }
  },
  {
   "cell_type": "code",
   "execution_count": 9,
   "outputs": [
    {
     "name": "stdout",
     "output_type": "stream",
     "text": [
      "Оптимальная чистая стратегия для игрока Б:  Телефоны\n"
     ]
    }
   ],
   "source": [
    "df.index[np.argmin(np.max(np_data, axis=0))]\n",
    "print('Оптимальная чистая стратегия для игрока Б: ', df.index[np.argmin(np.max(np_data, axis=0))])"
   ],
   "metadata": {
    "collapsed": false,
    "pycharm": {
     "name": "#%%\n"
    }
   }
  },
  {
   "cell_type": "code",
   "execution_count": 10,
   "outputs": [
    {
     "name": "stderr",
     "output_type": "stream",
     "text": [
      "c:\\users\\irong\\desktop\\python\\lib\\site-packages\\pulp\\pulp.py:1352: UserWarning: Spaces are not permitted in the name. Converted to '_'\n",
      "  warnings.warn(\"Spaces are not permitted in the name. Converted to '_'\")\n"
     ]
    }
   ],
   "source": [
    "problem = LpProblem('Task 1', LpMinimize)"
   ],
   "metadata": {
    "collapsed": false,
    "pycharm": {
     "name": "#%%\n"
    }
   }
  },
  {
   "cell_type": "code",
   "execution_count": 11,
   "outputs": [],
   "source": [
    "x1 = LpVariable('x1', lowBound=0)\n",
    "x2 = LpVariable('x2', lowBound=0)\n",
    "x3 = LpVariable('x3', lowBound=0)"
   ],
   "metadata": {
    "collapsed": false,
    "pycharm": {
     "name": "#%%\n"
    }
   }
  },
  {
   "cell_type": "code",
   "execution_count": 12,
   "outputs": [],
   "source": [
    "#Целевая\n",
    "problem += x1 + x2 + x3"
   ],
   "metadata": {
    "collapsed": false,
    "pycharm": {
     "name": "#%%\n"
    }
   }
  },
  {
   "cell_type": "code",
   "execution_count": 13,
   "outputs": [],
   "source": [
    "#Ограничения\n",
    "\n",
    "problem += np_data[0][0] * x1 + np_data[1][0] * x2 + np_data[2][0] * x3 >= 1\n",
    "problem += np_data[0][1] * x1 + np_data[1][1] * x2 + np_data[2][1] * x3 >= 1\n",
    "problem += np_data[0][2] * x1 + np_data[1][2] * x2 + np_data[2][2] * x3 >= 1"
   ],
   "metadata": {
    "collapsed": false,
    "pycharm": {
     "name": "#%%\n"
    }
   }
  },
  {
   "cell_type": "code",
   "execution_count": 14,
   "outputs": [
    {
     "name": "stdout",
     "output_type": "stream",
     "text": [
      "x1:  0.0024691358\n",
      "x2:  0.0\n",
      "x3:  0.0010802469\n",
      "Целевая:  0.0035493827\n"
     ]
    }
   ],
   "source": [
    "problem.solve()\n",
    "print(\"x1: \", x1.varValue)\n",
    "print(\"x2: \", x2.varValue)\n",
    "print(\"x3: \", x3.varValue)\n",
    "print(\"Целевая: \", value(problem.objective))"
   ],
   "metadata": {
    "collapsed": false,
    "pycharm": {
     "name": "#%%\n"
    }
   }
  },
  {
   "cell_type": "code",
   "execution_count": 15,
   "outputs": [
    {
     "name": "stdout",
     "output_type": "stream",
     "text": [
      "Цена игры:  281.74\n"
     ]
    }
   ],
   "source": [
    "print(\"Цена игры: \", round(1/value(problem.objective),2))"
   ],
   "metadata": {
    "collapsed": false,
    "pycharm": {
     "name": "#%%\n"
    }
   }
  },
  {
   "cell_type": "code",
   "execution_count": 16,
   "outputs": [
    {
     "name": "stdout",
     "output_type": "stream",
     "text": [
      "Стратегия P1:  70 %\n",
      "Стратегия P2:  0 %\n",
      "Стратегия P3:  30 %\n"
     ]
    }
   ],
   "source": [
    "print('Стратегия P1: ', round((1/value(problem.objective)) * x1.varValue *100), '%')\n",
    "print('Стратегия P2: ', round((1/value(problem.objective)) * x2.varValue *100), '%')\n",
    "print('Стратегия P3: ', round((1/value(problem.objective)) * x3.varValue *100), '%')"
   ],
   "metadata": {
    "collapsed": false,
    "pycharm": {
     "name": "#%%\n"
    }
   }
  },
  {
   "cell_type": "markdown",
   "source": [
    "## Задание 2\n"
   ],
   "metadata": {
    "collapsed": false,
    "pycharm": {
     "name": "#%% md\n"
    }
   }
  },
  {
   "cell_type": "code",
   "execution_count": 17,
   "outputs": [
    {
     "data": {
      "text/plain": "          Телефоны  Ноутбуки   ПК\nТелефоны       300       280  230\nНоутбуки       200       180  130\nПК             240       380  400",
      "text/html": "<div>\n<style scoped>\n    .dataframe tbody tr th:only-of-type {\n        vertical-align: middle;\n    }\n\n    .dataframe tbody tr th {\n        vertical-align: top;\n    }\n\n    .dataframe thead th {\n        text-align: right;\n    }\n</style>\n<table border=\"1\" class=\"dataframe\">\n  <thead>\n    <tr style=\"text-align: right;\">\n      <th></th>\n      <th>Телефоны</th>\n      <th>Ноутбуки</th>\n      <th>ПК</th>\n    </tr>\n  </thead>\n  <tbody>\n    <tr>\n      <th>Телефоны</th>\n      <td>300</td>\n      <td>280</td>\n      <td>230</td>\n    </tr>\n    <tr>\n      <th>Ноутбуки</th>\n      <td>200</td>\n      <td>180</td>\n      <td>130</td>\n    </tr>\n    <tr>\n      <th>ПК</th>\n      <td>240</td>\n      <td>380</td>\n      <td>400</td>\n    </tr>\n  </tbody>\n</table>\n</div>"
     },
     "execution_count": 17,
     "metadata": {},
     "output_type": "execute_result"
    }
   ],
   "source": [
    "df_2_a = pd.read_csv('task8_2_A.csv', delimiter=';', encoding='utf-8', index_col=0)\n",
    "df_2_a"
   ],
   "metadata": {
    "collapsed": false,
    "pycharm": {
     "name": "#%%\n"
    }
   }
  },
  {
   "cell_type": "code",
   "execution_count": 18,
   "outputs": [
    {
     "data": {
      "text/plain": "          Телефоны  Наушники  Ноутбуки\nТелефоны       180       110       240\nНаушники       120       160       210\nНоутбуки       300       140       250",
      "text/html": "<div>\n<style scoped>\n    .dataframe tbody tr th:only-of-type {\n        vertical-align: middle;\n    }\n\n    .dataframe tbody tr th {\n        vertical-align: top;\n    }\n\n    .dataframe thead th {\n        text-align: right;\n    }\n</style>\n<table border=\"1\" class=\"dataframe\">\n  <thead>\n    <tr style=\"text-align: right;\">\n      <th></th>\n      <th>Телефоны</th>\n      <th>Наушники</th>\n      <th>Ноутбуки</th>\n    </tr>\n  </thead>\n  <tbody>\n    <tr>\n      <th>Телефоны</th>\n      <td>180</td>\n      <td>110</td>\n      <td>240</td>\n    </tr>\n    <tr>\n      <th>Наушники</th>\n      <td>120</td>\n      <td>160</td>\n      <td>210</td>\n    </tr>\n    <tr>\n      <th>Ноутбуки</th>\n      <td>300</td>\n      <td>140</td>\n      <td>250</td>\n    </tr>\n  </tbody>\n</table>\n</div>"
     },
     "execution_count": 18,
     "metadata": {},
     "output_type": "execute_result"
    }
   ],
   "source": [
    "df_2_b = pd.read_csv('task8_2_B.csv', delimiter=';', encoding='utf-8', index_col=0)\n",
    "df_2_b"
   ],
   "metadata": {
    "collapsed": false,
    "pycharm": {
     "name": "#%%\n"
    }
   }
  },
  {
   "cell_type": "code",
   "execution_count": 19,
   "outputs": [],
   "source": [
    "np_data_2_a = df_2_a.values\n",
    "np_data_2_b = df_2_b.values"
   ],
   "metadata": {
    "collapsed": false,
    "pycharm": {
     "name": "#%%\n"
    }
   }
  },
  {
   "cell_type": "code",
   "execution_count": 20,
   "outputs": [
    {
     "data": {
      "text/plain": "array([300, 380, 400], dtype=int64)"
     },
     "execution_count": 20,
     "metadata": {},
     "output_type": "execute_result"
    }
   ],
   "source": [
    "np.max(np_data_2_a, axis=0)"
   ],
   "metadata": {
    "collapsed": false,
    "pycharm": {
     "name": "#%%\n"
    }
   }
  },
  {
   "cell_type": "code",
   "execution_count": 21,
   "outputs": [
    {
     "name": "stdout",
     "output_type": "stream",
     "text": [
      "Цена игры для игрока А при выборе\n",
      "чистой оптимальной стратегии :  300\n"
     ]
    }
   ],
   "source": [
    "print('Цена игры для игрока А при выборе\\nчистой оптимальной стратегии : ', np.min(np.max(np_data_2_a, axis=0)))"
   ],
   "metadata": {
    "collapsed": false,
    "pycharm": {
     "name": "#%%\n"
    }
   }
  },
  {
   "cell_type": "code",
   "execution_count": 22,
   "outputs": [
    {
     "name": "stdout",
     "output_type": "stream",
     "text": [
      "Оптимальная чистая стратегия для игрока А:  Телефоны\n"
     ]
    }
   ],
   "source": [
    "df_2_a.index[np.argmin(np.max(np_data_2_a, axis=0))]\n",
    "print('Оптимальная чистая стратегия для игрока А: ', df_2_a.index[np.argmin(np.max(np_data_2_a, axis=0))])"
   ],
   "metadata": {
    "collapsed": false,
    "pycharm": {
     "name": "#%%\n"
    }
   }
  },
  {
   "cell_type": "code",
   "execution_count": 23,
   "outputs": [
    {
     "data": {
      "text/plain": "array([240, 210, 300], dtype=int64)"
     },
     "execution_count": 23,
     "metadata": {},
     "output_type": "execute_result"
    }
   ],
   "source": [
    "np.max(np_data_2_b, axis=1)"
   ],
   "metadata": {
    "collapsed": false,
    "pycharm": {
     "name": "#%%\n"
    }
   }
  },
  {
   "cell_type": "code",
   "execution_count": 24,
   "outputs": [
    {
     "name": "stdout",
     "output_type": "stream",
     "text": [
      "Цена игры для игрока Б при выборе\n",
      "чистой оптимальной стратегии :  210\n"
     ]
    }
   ],
   "source": [
    "np.min(np.max(np_data_2_b, axis=1))\n",
    "print('Цена игры для игрока Б при выборе\\nчистой оптимальной стратегии : ', np.min(np.max(np_data_2_b, axis=1)))"
   ],
   "metadata": {
    "collapsed": false,
    "pycharm": {
     "name": "#%%\n"
    }
   }
  },
  {
   "cell_type": "code",
   "execution_count": 25,
   "outputs": [
    {
     "name": "stdout",
     "output_type": "stream",
     "text": [
      "Оптимальная чистая стратегия для игрока Б:  Наушники\n"
     ]
    }
   ],
   "source": [
    "df_2_b.index[np.argmin(np.max(np_data_2_b, axis=1))]\n",
    "print('Оптимальная чистая стратегия для игрока Б: ', df_2_b.index[np.argmin(np.max(np_data_2_b, axis=1))])"
   ],
   "metadata": {
    "collapsed": false,
    "pycharm": {
     "name": "#%%\n"
    }
   }
  },
  {
   "cell_type": "code",
   "execution_count": 26,
   "outputs": [
    {
     "name": "stdout",
     "output_type": "stream",
     "text": [
      "Общая суммарная цена игры:  510\n"
     ]
    }
   ],
   "source": [
    "print ('Общая суммарная цена игры: ', np.sum([np.min(np.max(np_data_2_b, axis=1)).item(), np.min(np.max(np_data_2_a, axis=0)).item()]))"
   ],
   "metadata": {
    "collapsed": false,
    "pycharm": {
     "name": "#%%\n"
    }
   }
  },
  {
   "cell_type": "code",
   "execution_count": 26,
   "outputs": [],
   "source": [],
   "metadata": {
    "collapsed": false,
    "pycharm": {
     "name": "#%%\n"
    }
   }
  },
  {
   "cell_type": "code",
   "execution_count": 27,
   "outputs": [
    {
     "name": "stderr",
     "output_type": "stream",
     "text": [
      "c:\\users\\irong\\desktop\\python\\lib\\site-packages\\pulp\\pulp.py:1352: UserWarning: Spaces are not permitted in the name. Converted to '_'\n",
      "  warnings.warn(\"Spaces are not permitted in the name. Converted to '_'\")\n"
     ]
    }
   ],
   "source": [
    "problem_2 = LpProblem(\"Task 2\", LpMinimize)\n",
    "\n",
    "var_F = []\n",
    "\n",
    "for i in range(np_data_2_b.shape[0]):\n",
    "    w = LpVariable(f'w{i+1}', lowBound=0)\n",
    "    var_F.append(w)\n",
    "\n",
    "F = (np.array(var_F)).sum()\n",
    "\n",
    "problem_2 += F\n",
    "\n",
    "limits = np.vectorize(lambda x, y: x >= y)((np_data_2_b * var_F).sum(axis=1), 1)\n",
    "\n",
    "for constraint in limits:\n",
    "    problem_2 += constraint\n",
    "\n",
    "problem_2.solve()\n",
    "\n",
    "strategy_a = np.array(list(map(lambda x: x.value(), problem_2.variables())))\n",
    "\n",
    "strategy_a = strategy_a / strategy_a.sum()"
   ],
   "metadata": {
    "collapsed": false,
    "pycharm": {
     "name": "#%%\n"
    }
   }
  },
  {
   "cell_type": "code",
   "execution_count": 28,
   "outputs": [
    {
     "name": "stdout",
     "output_type": "stream",
     "text": [
      "Таблица смешанных стратегий для компании А:  [0. 0. 1.]\n"
     ]
    }
   ],
   "source": [
    "print ('Таблица смешанных стратегий для компании А: ', strategy_a)\n"
   ],
   "metadata": {
    "collapsed": false,
    "pycharm": {
     "name": "#%%\n"
    }
   }
  },
  {
   "cell_type": "code",
   "execution_count": 29,
   "outputs": [],
   "source": [
    "problem_2 = LpProblem(\"Task 2\", LpMaximize)\n",
    "\n",
    "var_F = []\n",
    "\n",
    "for i in range(np_data_2_a.shape[0]):\n",
    "    w = LpVariable(f'w{i+1}', lowBound=0)\n",
    "    var_F.append(w)\n",
    "\n",
    "F = (np.array(var_F)).sum()\n",
    "\n",
    "problem_2 += F\n",
    "\n",
    "limits = np.vectorize(lambda x, y: x <= y)((np_data_2_a * var_F).sum(axis=1), 1)\n",
    "\n",
    "for constraint in limits:\n",
    "    problem_2 += constraint\n",
    "\n",
    "problem_2.solve()\n",
    "\n",
    "strategy_b = np.array(list(map(lambda x: x.value(), problem_2.variables())))\n",
    "\n",
    "strategy_b = strategy_b / strategy_b.sum()"
   ],
   "metadata": {
    "collapsed": false,
    "pycharm": {
     "name": "#%%\n"
    }
   }
  },
  {
   "cell_type": "code",
   "execution_count": 30,
   "outputs": [
    {
     "name": "stdout",
     "output_type": "stream",
     "text": [
      "Таблица смешанных стратегий для компании Б:  [0.73913043 0.         0.26086957]\n"
     ]
    }
   ],
   "source": [
    "print ('Таблица смешанных стратегий для компании Б: ', strategy_b)"
   ],
   "metadata": {
    "collapsed": false,
    "pycharm": {
     "name": "#%%\n"
    }
   }
  },
  {
   "cell_type": "code",
   "execution_count": 31,
   "outputs": [
    {
     "name": "stdout",
     "output_type": "stream",
     "text": [
      "Цена игры для игрока А при выборе смешанной оптимальной стратегии:  281.73913045438184\n",
      "Цена игры для игрока Б при выборе смешанной оптимальной стратегии:  286.9565217330057\n",
      "Общая цена игры в случае использования оптимальных стратегий:  568.6956521873875\n"
     ]
    }
   ],
   "source": [
    "cost_game_A = ((strategy_a * np_data_2_a.T).T * strategy_b).sum()\n",
    "cost_game_B = ((strategy_a * np_data_2_b.T).T * strategy_b).sum()\n",
    "\n",
    "print('Цена игры для игрока А при выборе смешанной оптимальной стратегии: ', cost_game_A)\n",
    "print('Цена игры для игрока Б при выборе смешанной оптимальной стратегии: ', cost_game_B)\n",
    "print('Общая цена игры в случае использования оптимальных стратегий: ', cost_game_A + cost_game_B)"
   ],
   "metadata": {
    "collapsed": false,
    "pycharm": {
     "name": "#%%\n"
    }
   }
  },
  {
   "cell_type": "code",
   "execution_count": 32,
   "outputs": [
    {
     "name": "stdout",
     "output_type": "stream",
     "text": [
      "Количество равновесий по Нэшу:  1\n"
     ]
    }
   ],
   "source": [
    "nash_count = nash.Game(np_data_2_a, np_data_2_b)\n",
    "\n",
    "print('Количество равновесий по Нэшу: ', len(list(nash_count.support_enumeration())))"
   ],
   "metadata": {
    "collapsed": false,
    "pycharm": {
     "name": "#%%\n"
    }
   }
  },
  {
   "cell_type": "markdown",
   "source": [
    "## Задание 3"
   ],
   "metadata": {
    "collapsed": false,
    "pycharm": {
     "name": "#%% md\n"
    }
   }
  },
  {
   "cell_type": "code",
   "execution_count": 33,
   "outputs": [
    {
     "data": {
      "text/plain": "               Рецессия  Стагнация  Оживление  Подъем\nПродукты          50.00      30.00       35.0    45.0\nКосметика         40.00      40.00       55.0    40.0\nОдежда            35.00      40.00       45.0    55.0\nбытовая химия     10.00      20.00       25.0    35.0\nВероятности        0.15       0.25        0.5     0.1",
      "text/html": "<div>\n<style scoped>\n    .dataframe tbody tr th:only-of-type {\n        vertical-align: middle;\n    }\n\n    .dataframe tbody tr th {\n        vertical-align: top;\n    }\n\n    .dataframe thead th {\n        text-align: right;\n    }\n</style>\n<table border=\"1\" class=\"dataframe\">\n  <thead>\n    <tr style=\"text-align: right;\">\n      <th></th>\n      <th>Рецессия</th>\n      <th>Стагнация</th>\n      <th>Оживление</th>\n      <th>Подъем</th>\n    </tr>\n  </thead>\n  <tbody>\n    <tr>\n      <th>Продукты</th>\n      <td>50.00</td>\n      <td>30.00</td>\n      <td>35.0</td>\n      <td>45.0</td>\n    </tr>\n    <tr>\n      <th>Косметика</th>\n      <td>40.00</td>\n      <td>40.00</td>\n      <td>55.0</td>\n      <td>40.0</td>\n    </tr>\n    <tr>\n      <th>Одежда</th>\n      <td>35.00</td>\n      <td>40.00</td>\n      <td>45.0</td>\n      <td>55.0</td>\n    </tr>\n    <tr>\n      <th>бытовая химия</th>\n      <td>10.00</td>\n      <td>20.00</td>\n      <td>25.0</td>\n      <td>35.0</td>\n    </tr>\n    <tr>\n      <th>Вероятности</th>\n      <td>0.15</td>\n      <td>0.25</td>\n      <td>0.5</td>\n      <td>0.1</td>\n    </tr>\n  </tbody>\n</table>\n</div>"
     },
     "execution_count": 33,
     "metadata": {},
     "output_type": "execute_result"
    }
   ],
   "source": [
    "df_3 = pd.read_csv('task8_3.csv', delimiter=';', encoding='utf-8', index_col=0)\n",
    "df_3"
   ],
   "metadata": {
    "collapsed": false,
    "pycharm": {
     "name": "#%%\n"
    }
   }
  },
  {
   "cell_type": "code",
   "execution_count": 34,
   "outputs": [],
   "source": [
    "np_probability = df_3.iloc[-1].values\n",
    "\n",
    "np_data_3 = df_3.iloc[:-1].values\n",
    "\n",
    "probability_laplas = 1 / np_probability.shape[0]"
   ],
   "metadata": {
    "collapsed": false,
    "pycharm": {
     "name": "#%%\n"
    }
   }
  },
  {
   "cell_type": "code",
   "execution_count": 35,
   "outputs": [
    {
     "name": "stdout",
     "output_type": "stream",
     "text": [
      "Цена игры с оптимальной стратегии\n",
      "по критерию Лапласа:  43.75\n",
      "\n",
      "Оптимальная стратегия\n",
      "игрока А по критерию Лапласа:  Косметика и Одежда\n"
     ]
    }
   ],
   "source": [
    "laplas_critery = (np_data_3 * probability_laplas).sum(axis=1)\n",
    "print('Цена игры с оптимальной стратегии\\nпо критерию Лапласа: ', np.max(laplas_critery))\n",
    "\n",
    "opt_strategy_laplas = df_3.index[np.argwhere(laplas_critery == np.max(laplas_critery)).reshape(-1)]\n",
    "\n",
    "print('\\nОптимальная стратегия\\nигрока А по критерию Лапласа: ', ' и '.join(opt_strategy_laplas))"
   ],
   "metadata": {
    "collapsed": false,
    "pycharm": {
     "name": "#%%\n"
    }
   }
  },
  {
   "cell_type": "code",
   "execution_count": 36,
   "outputs": [
    {
     "name": "stdout",
     "output_type": "stream",
     "text": [
      "Цена игры с оптимальной стратегии\n",
      "по критерию Байеса:  47.5\n",
      "\n",
      "Оптимальная стратегия\n",
      "игрока А по критерию Байеса:  Косметика\n"
     ]
    }
   ],
   "source": [
    "bayes_critery = (np_data_3 * np_probability).sum(axis=1)\n",
    "print('Цена игры с оптимальной стратегии\\nпо критерию Байеса: ', np.max(bayes_critery))\n",
    "\n",
    "opt_strategy_bayes = df_3.index[np.argwhere(bayes_critery == np.max(bayes_critery)).reshape(-1)]\n",
    "print('\\nОптимальная стратегия\\nигрока А по критерию Байеса: ', ' и '.join(opt_strategy_bayes))"
   ],
   "metadata": {
    "collapsed": false,
    "pycharm": {
     "name": "#%%\n"
    }
   }
  },
  {
   "cell_type": "code",
   "execution_count": 37,
   "outputs": [
    {
     "name": "stdout",
     "output_type": "stream",
     "text": [
      "Цена игры с оптимальной чистой стратегии\n",
      "по критерию Гермейера:  5.25 / 35.0\n",
      "\n",
      "Оптимальная чистая стратегия\n",
      "игрока А по критерию Гермейера:  Одежда\n"
     ]
    }
   ],
   "source": [
    "hermeyer_critery = (np_data_3 * np_probability).min(axis=1)\n",
    "min_hermeyer_arg = (np_data_3 * np_probability).argmin(axis=1)[hermeyer_critery.argmax()]\n",
    "\n",
    "print('Цена игры с оптимальной чистой стратегии\\n'\n",
    "      'по критерию Гермейера: ', np.max(hermeyer_critery), '/',\n",
    "      np_data_3[np.argwhere(hermeyer_critery == np.max(hermeyer_critery)).reshape(-1), min_hermeyer_arg].item())\n",
    "\n",
    "opt_strategy_hermeyer = df_3.index[np.argwhere(hermeyer_critery == np.max(hermeyer_critery)).reshape(-1)]\n",
    "print('\\nОптимальная чистая стратегия\\nигрока А по критерию Гермейера: ', ' и '.join(opt_strategy_hermeyer))"
   ],
   "metadata": {
    "collapsed": false,
    "pycharm": {
     "name": "#%%\n"
    }
   }
  },
  {
   "cell_type": "code",
   "execution_count": 38,
   "outputs": [
    {
     "name": "stderr",
     "output_type": "stream",
     "text": [
      "c:\\users\\irong\\desktop\\python\\lib\\site-packages\\pulp\\pulp.py:1352: UserWarning: Spaces are not permitted in the name. Converted to '_'\n",
      "  warnings.warn(\"Spaces are not permitted in the name. Converted to '_'\")\n"
     ]
    }
   ],
   "source": [
    "np_lp = (np_data_3 * np_probability).T\n",
    "\n",
    "problem_3 = LpProblem(\"Task 3\", LpMinimize)\n",
    "\n",
    "var_F = []\n",
    "\n",
    "for i in range(np_lp.shape[0]):\n",
    "    w = LpVariable(f'w{i+1}', lowBound=0)\n",
    "    var_F.append(w)\n",
    "\n",
    "F = (np.array(var_F)).sum()\n",
    "\n",
    "problem_3 += F\n",
    "\n",
    "limits = np.vectorize(lambda x, y: x >= y)((np_lp * var_F).sum(axis=1), 1)\n",
    "\n",
    "for constraint in limits:\n",
    "    problem_3 += constraint\n",
    "\n",
    "problem_3.solve()\n",
    "\n",
    "strategy_3 = np.array(list(map(lambda x: x.value(), problem_3.variables())))\n",
    "\n",
    "cost_problem_3 = 1 / strategy_3.sum()\n",
    "\n",
    "strategy_3 = strategy_3 / strategy_3.sum()\n",
    "\n"
   ],
   "metadata": {
    "collapsed": false,
    "pycharm": {
     "name": "#%%\n"
    }
   }
  },
  {
   "cell_type": "code",
   "execution_count": 39,
   "outputs": [
    {
     "name": "stdout",
     "output_type": "stream",
     "text": [
      "Таблица оптимальных смешанных стратегий\n",
      "для игрока А по критерию Гермейера:\n",
      " [0.07692307 0.         0.92307693 0.        ]\n",
      "\n",
      "Цена игры для игрока А\n",
      "при выборе смешанной оптимальной стратегии\n",
      "по критерию Гермейера:\n",
      " 5.42307680898373 / 42.76923078487426\n"
     ]
    }
   ],
   "source": [
    "print ('Таблица оптимальных смешанных стратегий\\n'\n",
    "       'для игрока А по критерию Гермейера:\\n',\n",
    "       strategy_3)\n",
    "\n",
    "print('\\nЦена игры для игрока А\\n'\n",
    "      'при выборе смешанной оптимальной стратегии\\n'\n",
    "      'по критерию Гермейера:\\n',\n",
    "      cost_problem_3, '/',\n",
    "      (np_lp*strategy_3).sum())"
   ],
   "metadata": {
    "collapsed": false,
    "pycharm": {
     "name": "#%%\n"
    }
   }
  },
  {
   "cell_type": "markdown",
   "source": [
    "## Задание 4"
   ],
   "metadata": {
    "collapsed": false,
    "pycharm": {
     "name": "#%% md\n"
    }
   }
  },
  {
   "cell_type": "code",
   "execution_count": 40,
   "outputs": [
    {
     "data": {
      "text/plain": "               Рецессия  Стагнация  Оживление  Подъем\nПродукты             50         30         35      45\nКосметика            40         40         40      40\nОдежда               70         40         35      50\nбытовая химия        10         20         25      35",
      "text/html": "<div>\n<style scoped>\n    .dataframe tbody tr th:only-of-type {\n        vertical-align: middle;\n    }\n\n    .dataframe tbody tr th {\n        vertical-align: top;\n    }\n\n    .dataframe thead th {\n        text-align: right;\n    }\n</style>\n<table border=\"1\" class=\"dataframe\">\n  <thead>\n    <tr style=\"text-align: right;\">\n      <th></th>\n      <th>Рецессия</th>\n      <th>Стагнация</th>\n      <th>Оживление</th>\n      <th>Подъем</th>\n    </tr>\n  </thead>\n  <tbody>\n    <tr>\n      <th>Продукты</th>\n      <td>50</td>\n      <td>30</td>\n      <td>35</td>\n      <td>45</td>\n    </tr>\n    <tr>\n      <th>Косметика</th>\n      <td>40</td>\n      <td>40</td>\n      <td>40</td>\n      <td>40</td>\n    </tr>\n    <tr>\n      <th>Одежда</th>\n      <td>70</td>\n      <td>40</td>\n      <td>35</td>\n      <td>50</td>\n    </tr>\n    <tr>\n      <th>бытовая химия</th>\n      <td>10</td>\n      <td>20</td>\n      <td>25</td>\n      <td>35</td>\n    </tr>\n  </tbody>\n</table>\n</div>"
     },
     "execution_count": 40,
     "metadata": {},
     "output_type": "execute_result"
    }
   ],
   "source": [
    "df_4 = pd.read_csv('task8_4.csv', delimiter=';', encoding='utf-8', index_col=0)\n",
    "\n",
    "np_data_4 = df_4.values\n",
    "\n",
    "df_4"
   ],
   "metadata": {
    "collapsed": false,
    "pycharm": {
     "name": "#%%\n"
    }
   }
  },
  {
   "cell_type": "code",
   "execution_count": 41,
   "outputs": [
    {
     "name": "stdout",
     "output_type": "stream",
     "text": [
      "Цена игры оптимальной стратегии\n",
      "по критерию пессимизма:   10\n",
      "\n",
      "Оптимальная стратегия игрока А\n",
      "по критерию пессимизма:   бытовая химия\n"
     ]
    }
   ],
   "source": [
    "# Пессимизм\n",
    "\n",
    "pessimism_critery = np_data_4.min(axis=1)\n",
    "\n",
    "print('Цена игры оптимальной стратегии\\nпо критерию пессимизма:  ', np.min(pessimism_critery))\n",
    "\n",
    "opt_strategy_pessimism = df_3.index[np.argwhere(pessimism_critery == np.min(pessimism_critery)).reshape(-1)]\n",
    "\n",
    "print('\\nОптимальная стратегия игрока А\\nпо критерию пессимизма:  ', ' и '.join(opt_strategy_pessimism))"
   ],
   "metadata": {
    "collapsed": false,
    "pycharm": {
     "name": "#%%\n"
    }
   }
  },
  {
   "cell_type": "code",
   "execution_count": 42,
   "outputs": [
    {
     "name": "stdout",
     "output_type": "stream",
     "text": [
      "Цена игры оптимальной стратегии\n",
      "по критерию оптимизма:    70\n",
      "\n",
      "Оптимальная стратегия игрока А\n",
      "по критерию оптимизма:    Одежда\n"
     ]
    }
   ],
   "source": [
    "# Оптимизм\n",
    "\n",
    "optimism_critery = np_data_4.max(axis=1)\n",
    "\n",
    "print('Цена игры оптимальной стратегии\\nпо критерию оптимизма:   ', np.max(optimism_critery))\n",
    "\n",
    "opt_strategy_optimism = df_3.index[np.argwhere(optimism_critery == np.max(optimism_critery)).reshape(-1)]\n",
    "\n",
    "print('\\nОптимальная стратегия игрока А\\nпо критерию оптимизма:   ', ' и '.join(opt_strategy_optimism))"
   ],
   "metadata": {
    "collapsed": false,
    "pycharm": {
     "name": "#%%\n"
    }
   }
  },
  {
   "cell_type": "code",
   "execution_count": 43,
   "outputs": [
    {
     "name": "stdout",
     "output_type": "stream",
     "text": [
      "Цена игры оптимальной стратегии\n",
      "по критерию оптимизма:    40\n",
      "\n",
      "Оптимальная стратегия игрока А\n",
      "по критерию оптимизма:    Косметика\n"
     ]
    }
   ],
   "source": [
    "# Вальд\n",
    "\n",
    "vald_critery = np_data_4.min(axis=1)\n",
    "\n",
    "print('Цена игры оптимальной стратегии\\nпо критерию оптимизма:   ', np.max(vald_critery))\n",
    "\n",
    "opt_strategy_vald = df_3.index[np.argwhere(vald_critery == np.max(vald_critery)).reshape(-1)]\n",
    "\n",
    "print('\\nОптимальная стратегия игрока А\\nпо критерию оптимизма:   ', ' и '.join(opt_strategy_vald))"
   ],
   "metadata": {
    "collapsed": false,
    "pycharm": {
     "name": "#%%\n"
    }
   }
  },
  {
   "cell_type": "code",
   "execution_count": 44,
   "outputs": [
    {
     "name": "stdout",
     "output_type": "stream",
     "text": [
      "Величина минимальной недополученной прибыли\n",
      "по критерию Сэвиджа:     5\n",
      "\n",
      "Оптимальная стратегия игрока А\n",
      "по критерию Сэвиджа:     Одежда\n"
     ]
    }
   ],
   "source": [
    "#Сэвидж\n",
    "\n",
    "savidge_critery = (np_data_4.max(axis=0) - np_data_4).max(axis=1)\n",
    "\n",
    "print('Величина минимальной недополученной прибыли\\nпо критерию Сэвиджа:    ', np.min(savidge_critery))\n",
    "\n",
    "opt_strategy_savidge = df_3.index[np.argwhere(savidge_critery == np.min(savidge_critery)).reshape(-1)]\n",
    "\n",
    "print('\\nОптимальная стратегия игрока А\\nпо критерию Сэвиджа:    ', ' и '.join(opt_strategy_savidge))"
   ],
   "metadata": {
    "collapsed": false,
    "pycharm": {
     "name": "#%%\n"
    }
   }
  },
  {
   "cell_type": "code",
   "execution_count": 54,
   "outputs": [],
   "source": [
    "# Гурвица\n",
    "\n",
    "A_i = list([f'A{i + 1}' for i in range(np_data_4.shape[0])])\n",
    "\n",
    "alpha_value = pd.DataFrame(columns = A_i, index = np.arange(0, 1.1, 0.1))"
   ],
   "metadata": {
    "collapsed": false,
    "pycharm": {
     "name": "#%%\n"
    }
   }
  },
  {
   "cell_type": "code",
   "execution_count": 55,
   "outputs": [],
   "source": [
    "for alpha in alpha_value.index:\n",
    "    alpha_value.loc[alpha, A_i] = alpha * np_data_4.max(axis=1) + (1 - alpha) * np_data_4.min(axis=1)\n",
    "alpha_value['max'] = alpha_value[A_i].max(axis=1)"
   ],
   "metadata": {
    "collapsed": false,
    "pycharm": {
     "name": "#%%\n"
    }
   }
  },
  {
   "cell_type": "code",
   "execution_count": 56,
   "outputs": [
    {
     "data": {
      "text/plain": "       A1    A2    A3    A4   max\n0.0  30.0  40.0  35.0  10.0  40.0\n0.1  32.0  40.0  38.5  12.5  40.0\n0.2  34.0  40.0  42.0  15.0  42.0\n0.3  36.0  40.0  45.5  17.5  45.5\n0.4  38.0  40.0  49.0  20.0  49.0\n0.5  40.0  40.0  52.5  22.5  52.5\n0.6  42.0  40.0  56.0  25.0  56.0\n0.7  44.0  40.0  59.5  27.5  59.5\n0.8  46.0  40.0  63.0  30.0  63.0\n0.9  48.0  40.0  66.5  32.5  66.5\n1.0  50.0  40.0  70.0  35.0  70.0",
      "text/html": "<div>\n<style scoped>\n    .dataframe tbody tr th:only-of-type {\n        vertical-align: middle;\n    }\n\n    .dataframe tbody tr th {\n        vertical-align: top;\n    }\n\n    .dataframe thead th {\n        text-align: right;\n    }\n</style>\n<table border=\"1\" class=\"dataframe\">\n  <thead>\n    <tr style=\"text-align: right;\">\n      <th></th>\n      <th>A1</th>\n      <th>A2</th>\n      <th>A3</th>\n      <th>A4</th>\n      <th>max</th>\n    </tr>\n  </thead>\n  <tbody>\n    <tr>\n      <th>0.0</th>\n      <td>30.0</td>\n      <td>40.0</td>\n      <td>35.0</td>\n      <td>10.0</td>\n      <td>40.0</td>\n    </tr>\n    <tr>\n      <th>0.1</th>\n      <td>32.0</td>\n      <td>40.0</td>\n      <td>38.5</td>\n      <td>12.5</td>\n      <td>40.0</td>\n    </tr>\n    <tr>\n      <th>0.2</th>\n      <td>34.0</td>\n      <td>40.0</td>\n      <td>42.0</td>\n      <td>15.0</td>\n      <td>42.0</td>\n    </tr>\n    <tr>\n      <th>0.3</th>\n      <td>36.0</td>\n      <td>40.0</td>\n      <td>45.5</td>\n      <td>17.5</td>\n      <td>45.5</td>\n    </tr>\n    <tr>\n      <th>0.4</th>\n      <td>38.0</td>\n      <td>40.0</td>\n      <td>49.0</td>\n      <td>20.0</td>\n      <td>49.0</td>\n    </tr>\n    <tr>\n      <th>0.5</th>\n      <td>40.0</td>\n      <td>40.0</td>\n      <td>52.5</td>\n      <td>22.5</td>\n      <td>52.5</td>\n    </tr>\n    <tr>\n      <th>0.6</th>\n      <td>42.0</td>\n      <td>40.0</td>\n      <td>56.0</td>\n      <td>25.0</td>\n      <td>56.0</td>\n    </tr>\n    <tr>\n      <th>0.7</th>\n      <td>44.0</td>\n      <td>40.0</td>\n      <td>59.5</td>\n      <td>27.5</td>\n      <td>59.5</td>\n    </tr>\n    <tr>\n      <th>0.8</th>\n      <td>46.0</td>\n      <td>40.0</td>\n      <td>63.0</td>\n      <td>30.0</td>\n      <td>63.0</td>\n    </tr>\n    <tr>\n      <th>0.9</th>\n      <td>48.0</td>\n      <td>40.0</td>\n      <td>66.5</td>\n      <td>32.5</td>\n      <td>66.5</td>\n    </tr>\n    <tr>\n      <th>1.0</th>\n      <td>50.0</td>\n      <td>40.0</td>\n      <td>70.0</td>\n      <td>35.0</td>\n      <td>70.0</td>\n    </tr>\n  </tbody>\n</table>\n</div>"
     },
     "execution_count": 56,
     "metadata": {},
     "output_type": "execute_result"
    }
   ],
   "source": [
    "alpha_value"
   ],
   "metadata": {
    "collapsed": false,
    "pycharm": {
     "name": "#%%\n"
    }
   }
  },
  {
   "cell_type": "code",
   "execution_count": 49,
   "outputs": [
    {
     "data": {
      "text/plain": "<matplotlib.legend.Legend at 0x2159fae29d0>"
     },
     "execution_count": 49,
     "metadata": {},
     "output_type": "execute_result"
    },
    {
     "data": {
      "text/plain": "<Figure size 432x288 with 1 Axes>",
      "image/png": "[encoded data removed]"
     },
     "metadata": {
      "needs_background": "light"
     },
     "output_type": "display_data"
    }
   ],
   "source": [
    "diagram = alpha_value[A_i].plot.bar()\n",
    "diagram.set_xlabel(\"Величина склонности к риску\")\n",
    "diagram.set_ylabel(\"Цена игры\")\n",
    "plt.plot(10 * alpha_value.index, alpha_value['max'], color=\"black\", label='max')\n",
    "diagram.legend()\n"
   ],
   "metadata": {
    "collapsed": false,
    "pycharm": {
     "name": "#%%\n"
    }
   }
  }
 ],
 "metadata": {
  "kernelspec": {
   "display_name": "Python 3",
   "language": "python",
   "name": "python3"
  },
  "language_info": {
   "codemirror_mode": {
    "name": "ipython",
    "version": 2
   },
   "file_extension": ".py",
   "mimetype": "text/x-python",
   "name": "python",
   "nbconvert_exporter": "python",
   "pygments_lexer": "ipython2",
   "version": "2.7.6"
  }
 },
 "nbformat": 4,
 "nbformat_minor": 0
}