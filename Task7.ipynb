{
 "cells": [
  {
   "cell_type": "markdown",
   "id": "627ca24d",
   "metadata": {},
   "source": [
    "Задание 7. Транспортная задача\n",
    "\n",
    "Дана транспортная задача: A1, A2, A3 – поставщики с запасами a1, a2, a3 однородного груза,\n",
    "\n",
    "B1, B2, B3, B4, B5 – потребители с потребностями b1, b2, b3, b4, b5\n",
    "\n",
    "Матрица тарифов C = (c_ij), где i = 1, 2, 3 и j = 1, 2, 3, 4, 5, содержит стоимости перевозки единицы груза\n",
    "из пункта Ai в пункт Bj\n",
    "\n",
    "Требуется найти минимальный по стоимости план перевозки груза от поставщиков\n",
    "к потребителям такой, чтобы был вывезен весь груз и все потребности были удовлетворены.<br>\n",
    "\n",
    "1. Убедитесь, что транспортная задача закрытого типа\n",
    "\n",
    "2. Найдите какой-либо допустимый план перевозки груза (можно использовать методы северо-западного угла, минимальной стоимости или Фогеля)\n",
    "\n",
    "3. Найдите оптимальный план перевозки груза (план минимальной стоимости) методом потенциалов\n",
    "\n",
    "4. Проверьте результаты вычислений на компьютере"
   ]
  },
  {
   "cell_type": "code",
   "execution_count": 1,
   "id": "55eda7aa",
   "metadata": {},
   "outputs": [],
   "source": [
    "import numpy as np\n",
    "import pandas as pd\n",
    "from scipy.optimize import Bounds, linprog\n",
    "np.set_printoptions(suppress=True)"
   ]
  },
  {
   "cell_type": "code",
   "execution_count": 2,
   "id": "6cfdb12c",
   "metadata": {
    "scrolled": true
   },
   "outputs": [
    {
     "name": "stdout",
     "output_type": "stream",
     "text": [
      "\n",
      "Матрица C:\n",
      "[[10 18  8 10  4]\n",
      " [15 11 12 13  5]\n",
      " [ 6  9 16 17 21]]\n"
     ]
    }
   ],
   "source": [
    "C = np.array([list(map(int, input(f'Введите {i+1} строку матрицы C (числа через пробел):\\n').split())) for i in range(3)])\n",
    "print('\\nМатрица C:')\n",
    "print(C)"
   ]
  },
  {
   "cell_type": "code",
   "execution_count": 3,
   "id": "4b5568ed",
   "metadata": {},
   "outputs": [],
   "source": [
    "a1, a2, a3 = map(int, input('Введите через пробел числа a1, a2, a3:\\n').split())"
   ]
  },
  {
   "cell_type": "code",
   "execution_count": 4,
   "id": "d04bf1a9",
   "metadata": {},
   "outputs": [],
   "source": [
    "A = np.array([a1, a2, a3])"
   ]
  },
  {
   "cell_type": "code",
   "execution_count": 6,
   "id": "126ccc8b",
   "metadata": {},
   "outputs": [],
   "source": [
    "b1, b2, b3, b4, b5 = map(int, input('Введите через пробел числа b1, b2, b3, b4, b5:\\n').split())"
   ]
  },
  {
   "cell_type": "code",
   "execution_count": 7,
   "id": "f364a55a",
   "metadata": {},
   "outputs": [],
   "source": [
    "B = np.array([b1, b2, b3, b4, b5])"
   ]
  },
  {
   "cell_type": "code",
   "execution_count": 8,
   "id": "27843ed2",
   "metadata": {},
   "outputs": [],
   "source": [
    "N = len(A)\n",
    "M = len(B)"
   ]
  },
  {
   "cell_type": "code",
   "execution_count": 9,
   "id": "e0a9c5e6",
   "metadata": {},
   "outputs": [
    {
     "data": {
      "text/plain": "aᵢ \\ bⱼ  130  150  210  270  150\n250       10   18    8   10    4\n390       15   11   12   13    5\n270        6    9   16   17   21",
      "text/html": "<div>\n<style scoped>\n    .dataframe tbody tr th:only-of-type {\n        vertical-align: middle;\n    }\n\n    .dataframe tbody tr th {\n        vertical-align: top;\n    }\n\n    .dataframe thead th {\n        text-align: right;\n    }\n</style>\n<table border=\"1\" class=\"dataframe\">\n  <thead>\n    <tr style=\"text-align: right;\">\n      <th>aᵢ \\ bⱼ</th>\n      <th>130</th>\n      <th>150</th>\n      <th>210</th>\n      <th>270</th>\n      <th>150</th>\n    </tr>\n  </thead>\n  <tbody>\n    <tr>\n      <th>250</th>\n      <td>10</td>\n      <td>18</td>\n      <td>8</td>\n      <td>10</td>\n      <td>4</td>\n    </tr>\n    <tr>\n      <th>390</th>\n      <td>15</td>\n      <td>11</td>\n      <td>12</td>\n      <td>13</td>\n      <td>5</td>\n    </tr>\n    <tr>\n      <th>270</th>\n      <td>6</td>\n      <td>9</td>\n      <td>16</td>\n      <td>17</td>\n      <td>21</td>\n    </tr>\n  </tbody>\n</table>\n</div>"
     },
     "execution_count": 9,
     "metadata": {},
     "output_type": "execute_result"
    }
   ],
   "source": [
    "df = pd.DataFrame(C, columns=B, index=A)\n",
    "df.columns.name = 'aᵢ \\\\ bⱼ'\n",
    "df"
   ]
  },
  {
   "cell_type": "code",
   "execution_count": 10,
   "id": "0fbcdb41",
   "metadata": {},
   "outputs": [
    {
     "name": "stdout",
     "output_type": "stream",
     "text": [
      "Задача закрытого типа\n"
     ]
    }
   ],
   "source": [
    "if sum(A) == sum(B):\n",
    "    print('Задача закрытого типа')\n",
    "else:\n",
    "    print('Задача открытого типа')"
   ]
  },
  {
   "cell_type": "markdown",
   "id": "42e27a16",
   "metadata": {},
   "source": [
    "Допустимый план перевозки груза методом минимальной стоимости"
   ]
  },
  {
   "cell_type": "code",
   "execution_count": 14,
   "id": "bc022b12",
   "metadata": {},
   "outputs": [
    {
     "name": "stdout",
     "output_type": "stream",
     "text": [
      "Опорный план является невырожденным\n",
      "Полученный план перевозки груза:\n",
      " [[  0   0 100   0 150]\n",
      " [  0  10 110  30   0]\n",
      " [130 140   0   0   0]]\n",
      "Значение целевой функции для этого опорного плана F = 5260\n"
     ]
    }
   ],
   "source": [
    "P = np.zeros_like(C)\n",
    "INF = 1_000_000_000\n",
    "C_ = C.copy()\n",
    "A_ = A.copy()\n",
    "B_ = B.copy()\n",
    "i = 0\n",
    "j = 0\n",
    "while not np.all(C_ == INF):\n",
    "    i, j = np.unravel_index(C_.argmin(), C_.shape)\n",
    "    P[i][j] = min(A_[i], B_[j])\n",
    "    if A_[i] <= B_[j]:\n",
    "        C_[i].fill(INF)\n",
    "        B_[j] -= A_[i]\n",
    "        A_[i] = 0\n",
    "    else:\n",
    "        C_[:, j].fill(INF)\n",
    "        A_[i] -= B[j]\n",
    "        B_[j] = 0    \n",
    "if np.count_nonzero(P) == N + M - 1:\n",
    "    print('Опорный план является невырожденным')\n",
    "else:\n",
    "    print('Опорный план является вырожденным')\n",
    "\n",
    "F = 0\n",
    "for i in range(N):\n",
    "    for j in range(M):\n",
    "        F += C[i][j] * P[i][j]\n",
    "print('Полученный план перевозки груза:\\n', P)\n",
    "print('Значение целевой функции для этого опорного плана F =', F)"
   ]
  },
  {
   "cell_type": "markdown",
   "id": "093a5414",
   "metadata": {},
   "source": [
    "Оптимальный план перевозки груза"
   ]
  },
  {
   "cell_type": "code",
   "execution_count": 12,
   "id": "69e4099b",
   "metadata": {},
   "outputs": [
    {
     "name": "stdout",
     "output_type": "stream",
     "text": [
      "Primal Feasibility  Dual Feasibility    Duality Gap         Step             Path Parameter      Objective          \n",
      "1.0                 1.0                 1.0                 -                1.0                 175.0               \n",
      "0.135600791367      0.135600791367      0.135600791367      0.8751036980991  0.135600791367      1123.751111045      \n",
      "0.02552643481705    0.02552643481705    0.02552643481705    0.8211271450878  0.02552643481736    3547.497414593      \n",
      "0.005779230716104   0.005779230716104   0.005779230716104   0.7956920616757  0.005779230715972   6025.825253051      \n",
      "0.002735724435628   0.002735724435628   0.002735724435628   0.5761419510577  0.002735724435565   6927.414102377      \n",
      "0.0001984668961158  0.0001984668961236  0.0001984668961236  0.9286376492988  0.0001984668962583  7884.086056249      \n",
      "1.616561686027e-08  1.616561676846e-08  1.616561640105e-08  0.9999268933877  1.616562545585e-08  7969.992825244      \n",
      "8.108681551001e-13  8.10809252922e-13   8.098572317811e-13  0.9999498432811  8.107526781027e-13  7969.99999964       \n",
      "Optimization terminated successfully.\n",
      "         Current function value: 7970.000000 \n",
      "         Iterations: 7\n"
     ]
    },
    {
     "name": "stderr",
     "output_type": "stream",
     "text": [
      "C:\\Users\\irong\\AppData\\Local\\Temp/ipykernel_30180/1981003704.py:11: OptimizeWarning: Solving system with option 'cholesky':True failed. It is normal for this to happen occasionally, especially as the solution is approached. However, if you see this frequently, consider setting option 'cholesky' to False.\n",
      "  res = linprog(C.flatten(), A_ub, b_ub, A_eq, b_eq, options={'disp': True})\n",
      "C:\\Users\\irong\\AppData\\Local\\Temp/ipykernel_30180/1981003704.py:11: OptimizeWarning: Solving system with option 'sym_pos':True failed. It is normal for this to happen occasionally, especially as the solution is approached. However, if you see this frequently, consider setting option 'sym_pos' to False.\n",
      "  res = linprog(C.flatten(), A_ub, b_ub, A_eq, b_eq, options={'disp': True})\n",
      "c:\\users\\irong\\desktop\\python\\lib\\site-packages\\scipy\\optimize\\_linprog_ip.py:117: LinAlgWarning: Ill-conditioned matrix (rcond=5.56333e-18): result may not be accurate.\n",
      "  return sp.linalg.solve(M, r, sym_pos=sym_pos)\n"
     ]
    }
   ],
   "source": [
    "A_ub = np.array([[1 if i in range(j*M, M*(j+1)) else 0 for i in range(N*M)] for j in range(N)])\n",
    "b_ub = A\n",
    "\n",
    "b_eq = B\n",
    "A_eq = np.array([[1 if i % M == j else 0 for i in range(N*M)] for j in range(M)])\n",
    "\n",
    "res = linprog(C.flatten(), A_ub, b_ub, A_eq, b_eq, options={'disp': True})\n",
    "\n",
    "X = res.x.round(3).reshape(N, M)\n",
    "F_min = res.fun.round(3)"
   ]
  },
  {
   "cell_type": "code",
   "execution_count": 16,
   "id": "80e6e85a",
   "metadata": {},
   "outputs": [
    {
     "name": "stdout",
     "output_type": "stream",
     "text": [
      "Оптимальный план перевозки груза (X*):\n",
      " [[  0.   0. 210.  40.   0.]\n",
      " [  0.  10.   0. 230. 150.]\n",
      " [130. 140.   0.   0.   0.]]\n",
      "Оптимальная стоимость перевозки:\n",
      "F_min = F(X*) = 7970.0\n"
     ]
    }
   ],
   "source": [
    "print('Оптимальный план перевозки груза (X*):\\n', X)\n",
    "print('Оптимальная стоимость перевозки:\\nF_min = F(X*) =', F_min)"
   ]
  }
 ],
 "metadata": {
  "kernelspec": {
   "display_name": "Python 3 (ipykernel)",
   "language": "python",
   "name": "python3"
  },
  "language_info": {
   "codemirror_mode": {
    "name": "ipython",
    "version": 3
   },
   "file_extension": ".py",
   "mimetype": "text/x-python",
   "name": "python",
   "nbconvert_exporter": "python",
   "pygments_lexer": "ipython3",
   "version": "3.9.7"
  }
 },
 "nbformat": 4,
 "nbformat_minor": 5
}